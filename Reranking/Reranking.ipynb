{
  "cells": [
    {
      "cell_type": "code",
      "metadata": {},
      "source": [
        "# Install required packages\n",
        "%pip install cohere sentence_transformers chromadb"
      ]
    },
    {
      "cell_type": "code",
      "metadata": {},
      "source": [
        "# Import libraries\n",
        "import cohere\n",
        "from sentence_transformers import SentenceTransformer\n",
        "import chromadb"
      ]
    },
    {
      "cell_type": "code",
      "metadata": {},
      "source": [
        "# Set up API keys and clients\n",
        "# cohere_api_key = 'YOUR_API_KEY'\n",
        "# co = cohere.Client(cohere_api_key)"
      ]
    },
    {
      "cell_type": "code",
      "metadata": {},
      "source": [
        "# Define documents\n",
        "documents = [\n",
        "    {\"text\": \"Document 1 text.\"},\n",
        "    {\"text\": \"Document 2 text.\"}\n",
        "]"
      ]
    },
    {
      "cell_type": "code",
      "metadata": {},
      "source": [
        "# Create embeddings\n",
        "embedding_model = SentenceTransformer('all-MiniLM-L6-v2')\n",
        "document_embeddings = embedding_model.encode([doc[\"text\"] for doc in documents])"
      ]
    },
    {
      "cell_type": "code",
      "metadata": {},
      "source": [
        "# Set up vector store\n",
        "client = chromadb.Client()\n",
        "collection = client.create_collection(\"documents\")\n",
        "collection.add(\n",
        "    embeddings=document_embeddings.tolist(),\n",
        "    documents=[doc[\"text\"] for doc in documents],\n",
        "    ids=[f\"doc_{i}\" for i in range(len(documents))]\n",
        ")"
      ]
    },
    {
      "cell_type": "code",
      "metadata": {},
      "source": [
        "# Query and retrieve documents\n",
        "query = \"Your query here\"\n",
        "query_embedding = embedding_model.encode(query)\n",
        "retrieved_results = collection.query(\n",
        "    query_embeddings=[query_embedding.tolist()],\n",
        "    n_results=2\n",
        ")"
      ]
    },
    {
      "cell_type": "code",
      "metadata": {},
      "source": [
        "# Rerank retrieved documents\n",
        "# reranked_results = co.rerank(\n",
        "#     query=query,\n",
        "#     documents=[doc for doc in retrieved_results['documents'][0]],\n",
        "#     top_n=2,\n",
        "#     model='rerank-english-v3.0'\n",
        "# )"
      ]
    }
  ],
  "metadata": {
    "kernelspec": {
      "name": "python3",
      "display_name": "Python 3"
    },
    "language_info": {
      "name": "python"
    }
  },
  "nbformat": 4,
  "nbformat_minor": 0
}
//