{
  "nbformat": 4,
  "nbformat_minor": 0,
  "metadata": {
    "colab": {
      "provenance": []
    },
    "kernelspec": {
      "name": "python3",
      "display_name": "Python 3"
    },
    "language_info": {
      "name": "python"
    }
  },
  "cells": [
    {
      "cell_type": "code",
      "execution_count": 1,
      "metadata": {
        "colab": {
          "base_uri": "https://localhost:8080/"
        },
        "id": "1lMXDcJWMCDk",
        "outputId": "c29900d3-680f-442b-e463-bcf40a8eff2d"
      },
      "outputs": [
        {
          "output_type": "stream",
          "name": "stdout",
          "text": [
            "\u001b[?25l   \u001b[90m━━━━━━━━━━━━━━━━━━━━━━━━━━━━━━━━━━━━━━━━\u001b[0m \u001b[32m0.0/2.5 MB\u001b[0m \u001b[31m?\u001b[0m eta \u001b[36m-:--:--\u001b[0m\r\u001b[2K   \u001b[91m━━━━━━━━━━━━━━━━━━━━━━━━━━━━\u001b[0m\u001b[91m╸\u001b[0m\u001b[90m━━━━━━━━━━━\u001b[0m \u001b[32m1.8/2.5 MB\u001b[0m \u001b[31m55.1 MB/s\u001b[0m eta \u001b[36m0:00:01\u001b[0m\r\u001b[2K   \u001b[90m━━━━━━━━━━━━━━━━━━━━━━━━━━━━━━━━━━━━━━━━\u001b[0m \u001b[32m2.5/2.5 MB\u001b[0m \u001b[31m39.6 MB/s\u001b[0m eta \u001b[36m0:00:00\u001b[0m\n",
            "\u001b[?25h\u001b[?25l   \u001b[90m━━━━━━━━━━━━━━━━━━━━━━━━━━━━━━━━━━━━━━━━\u001b[0m \u001b[32m0.0/312.3 kB\u001b[0m \u001b[31m?\u001b[0m eta \u001b[36m-:--:--\u001b[0m\r\u001b[2K   \u001b[90m━━━━━━━━━━━━━━━━━━━━━━━━━━━━━━━━━━━━━━━━\u001b[0m \u001b[32m312.3/312.3 kB\u001b[0m \u001b[31m20.1 MB/s\u001b[0m eta \u001b[36m0:00:00\u001b[0m\n",
            "\u001b[?25h\u001b[?25l   \u001b[90m━━━━━━━━━━━━━━━━━━━━━━━━━━━━━━━━━━━━━━━━\u001b[0m \u001b[32m0.0/209.2 kB\u001b[0m \u001b[31m?\u001b[0m eta \u001b[36m-:--:--\u001b[0m\r\u001b[2K   \u001b[90m━━━━━━━━━━━━━━━━━━━━━━━━━━━━━━━━━━━━━━━━\u001b[0m \u001b[32m209.2/209.2 kB\u001b[0m \u001b[31m14.4 MB/s\u001b[0m eta \u001b[36m0:00:00\u001b[0m\n",
            "\u001b[?25h\u001b[?25l   \u001b[90m━━━━━━━━━━━━━━━━━━━━━━━━━━━━━━━━━━━━━━━━\u001b[0m \u001b[32m0.0/131.1 kB\u001b[0m \u001b[31m?\u001b[0m eta \u001b[36m-:--:--\u001b[0m\r\u001b[2K   \u001b[90m━━━━━━━━━━━━━━━━━━━━━━━━━━━━━━━━━━━━━━━━\u001b[0m \u001b[32m131.1/131.1 kB\u001b[0m \u001b[31m8.4 MB/s\u001b[0m eta \u001b[36m0:00:00\u001b[0m\n",
            "\u001b[2K   \u001b[90m━━━━━━━━━━━━━━━━━━━━━━━━━━━━━━━━━━━━━━━━\u001b[0m \u001b[32m45.2/45.2 kB\u001b[0m \u001b[31m3.3 MB/s\u001b[0m eta \u001b[36m0:00:00\u001b[0m\n",
            "\u001b[2K   \u001b[90m━━━━━━━━━━━━━━━━━━━━━━━━━━━━━━━━━━━━━━━━\u001b[0m \u001b[32m50.9/50.9 kB\u001b[0m \u001b[31m3.1 MB/s\u001b[0m eta \u001b[36m0:00:00\u001b[0m\n",
            "\u001b[?25h"
          ]
        }
      ],
      "source": [
        "%pip install --upgrade --quiet langchain langchain-community langchain-groq neo4j langchain-experimental"
      ]
    },
    {
      "cell_type": "code",
      "source": [
        "from google.colab import userdata\n",
        "\n",
        "NEO4J_URI = userdata.get('NEO4J_URI')\n",
        "NEO4J_USERNAME = userdata.get('NEO4J_USERNAME')\n",
        "NEO4J_PASSWORD = userdata.get('NEO4J_PASSWORD')\n"
      ],
      "metadata": {
        "id": "_zqtyQcBMX9T"
      },
      "execution_count": 8,
      "outputs": []
    },
    {
      "cell_type": "code",
      "source": [
        "from langchain_community.graphs import Neo4jGraph\n",
        "graph = Neo4jGraph(\n",
        "    url=NEO4J_URI, username=NEO4J_USERNAME, password=NEO4J_PASSWORD\n",
        ")"
      ],
      "metadata": {
        "id": "7mgeZwUHMX_j"
      },
      "execution_count": 9,
      "outputs": []
    },
    {
      "cell_type": "code",
      "source": [
        "graph"
      ],
      "metadata": {
        "colab": {
          "base_uri": "https://localhost:8080/"
        },
        "id": "xKT2k9ROMYBs",
        "outputId": "ef7d6c0d-2166-4644-f19f-41e73d389431"
      },
      "execution_count": 10,
      "outputs": [
        {
          "output_type": "execute_result",
          "data": {
            "text/plain": [
              "<langchain_community.graphs.neo4j_graph.Neo4jGraph at 0x786111980a50>"
            ]
          },
          "metadata": {},
          "execution_count": 10
        }
      ]
    },
    {
      "cell_type": "code",
      "source": [
        "groq_api_key = userdata.get('GROQ_API_KEY')\n",
        "# print(groq_api_key)"
      ],
      "metadata": {
        "id": "-S0vIu0gMYD4"
      },
      "execution_count": 12,
      "outputs": []
    },
    {
      "cell_type": "code",
      "source": [
        "from langchain_groq import ChatGroq\n",
        "llm = ChatGroq(groq_api_key = groq_api_key, model_name=\"Gemma2-9b-It\")\n",
        "llm"
      ],
      "metadata": {
        "colab": {
          "base_uri": "https://localhost:8080/"
        },
        "id": "Q-POdH-dMYGI",
        "outputId": "9eb1810f-968e-4d29-afe1-08c8b2a5061c"
      },
      "execution_count": 13,
      "outputs": [
        {
          "output_type": "execute_result",
          "data": {
            "text/plain": [
              "ChatGroq(client=<groq.resources.chat.completions.Completions object at 0x786110752c50>, async_client=<groq.resources.chat.completions.AsyncCompletions object at 0x7861103cee10>, model_name='Gemma2-9b-It', model_kwargs={}, groq_api_key=SecretStr('**********'))"
            ]
          },
          "metadata": {},
          "execution_count": 13
        }
      ]
    },
    {
      "cell_type": "code",
      "source": [
        "from langchain_core.documents import Document\n",
        "def read_text_file(file_path):\n",
        "  with open(file_path, 'r', encoding='utf-8') as file:\n",
        "    content = file.read()\n",
        "    document = Document(page_content=content)\n",
        "  return document"
      ],
      "metadata": {
        "id": "h7LeryTlMYIY"
      },
      "execution_count": 14,
      "outputs": []
    },
    {
      "cell_type": "code",
      "source": [
        "file_path = '/content/input.txt'\n",
        "document = read_text_file(file_path)\n",
        "print(document)"
      ],
      "metadata": {
        "colab": {
          "base_uri": "https://localhost:8080/"
        },
        "id": "cSkXCcOGMYL2",
        "outputId": "7931dc5b-caaa-4114-aa73-2168d5a31601"
      },
      "execution_count": 15,
      "outputs": [
        {
          "output_type": "stream",
          "name": "stdout",
          "text": [
            "page_content='Elon Musk (born June 28, 1971, in Pretoria, South Africa) is a businessman and investor with key roles in several companies. As of July 2024, Forbes estimates his net worth at US$221 billion, making him one of the wealthiest people in the world. He is the CEO of SpaceX (since 2002, headquartered in Hawthorne, California, industry: Aerospace) and Tesla, Inc. (since 2008, headquartered in Palo Alto, California, industry: Automotive and Energy). Musk owns X Corp. (formerly Twitter, acquired in 2022, headquartered in San Francisco, California, industry: Social Media). He is also a founder of The Boring Company (founded in 2016, industry: Infrastructure and Tunnel Construction), xAI (founded in 2023, industry: Artificial Intelligence), Neuralink (founded in 2016, industry: Neurotechnology), and OpenAI (founded in 2015, industry: Artificial Intelligence). OpenAI owns ChatGPT (launched in 2022, type: Conversational AI software).\n",
            "Musk was born to Maye Musk (profession: model and dietitian, nationality: Canadian-South African) and Errol Musk (profession: electromechanical engineer, nationality: South African). He briefly attended the University of Pretoria in 1988 before moving to Canada at age 18, gaining citizenship through his Canadian-born mother. He then attended Queen's University in Kingston, Canada, from 1989 to 1991, before transferring to the University of Pennsylvania, where he earned bachelor's degrees in economics (Wharton School) and physics (College of Arts and Sciences) in 1995. In 1995, Musk moved to California to attend Stanford University for a PhD in applied physics but dropped out after two days to co-found Zip2 (founded in 1995, industry: Software, acquired by Compaq in 1999), an online city guide software company, with his brother Kimbal Musk.'\n"
          ]
        }
      ]
    },
    {
      "cell_type": "code",
      "source": [
        "from langchain_experimental.graph_transformers import LLMGraphTransformer\n",
        "from langchain.prompts import PromptTemplate\n",
        "llm_transformer = LLMGraphTransformer(\n",
        "    llm=llm)"
      ],
      "metadata": {
        "id": "PvF0dFHuT7jk"
      },
      "execution_count": 16,
      "outputs": []
    },
    {
      "cell_type": "code",
      "source": [
        "llm_transformer"
      ],
      "metadata": {
        "colab": {
          "base_uri": "https://localhost:8080/"
        },
        "id": "pi9zehmDT7lk",
        "outputId": "6ea3db92-dfdb-4685-db42-9cf52d418861"
      },
      "execution_count": 17,
      "outputs": [
        {
          "output_type": "execute_result",
          "data": {
            "text/plain": [
              "<langchain_experimental.graph_transformers.llm.LLMGraphTransformer at 0x7861105d49d0>"
            ]
          },
          "metadata": {},
          "execution_count": 17
        }
      ]
    },
    {
      "cell_type": "code",
      "source": [
        "#convert the list of Document objects into graph documents using the LLMGraphTransformer\n",
        "graph_documents = llm_transformer.convert_to_graph_documents([document])"
      ],
      "metadata": {
        "id": "9oQs2rdRT7nu"
      },
      "execution_count": 20,
      "outputs": []
    },
    {
      "cell_type": "code",
      "source": [
        "graph_documents"
      ],
      "metadata": {
        "colab": {
          "base_uri": "https://localhost:8080/"
        },
        "id": "HSBBLa6gT7p7",
        "outputId": "6f68560d-3637-4d4d-e62f-9511a55a4d72"
      },
      "execution_count": 21,
      "outputs": [
        {
          "output_type": "execute_result",
          "data": {
            "text/plain": [
              "[GraphDocument(nodes=[Node(id='Elon Musk', type='Person', properties={}), Node(id='Maye Musk', type='Person', properties={}), Node(id='Errol Musk', type='Person', properties={}), Node(id='Kimbal Musk', type='Person', properties={}), Node(id='Spacex', type='Company', properties={}), Node(id='Tesla, Inc.', type='Company', properties={}), Node(id='X Corp.', type='Company', properties={}), Node(id='The Boring Company', type='Company', properties={}), Node(id='Xai', type='Company', properties={}), Node(id='Neuralink', type='Company', properties={}), Node(id='Openai', type='Company', properties={}), Node(id='Chatgpt', type='Software', properties={}), Node(id='Zip2', type='Company', properties={}), Node(id=\"Queen'S University\", type='University', properties={}), Node(id='University Of Pennsylvania', type='University', properties={}), Node(id='Stanford University', type='University', properties={}), Node(id='University Of Pretoria', type='University', properties={}), Node(id='Wharton School', type='School', properties={}), Node(id='College Of Arts And Sciences', type='School', properties={})], relationships=[Relationship(source=Node(id='Elon Musk', type='Person', properties={}), target=Node(id='Maye Musk', type='Person', properties={}), type='MOTHER', properties={}), Relationship(source=Node(id='Elon Musk', type='Person', properties={}), target=Node(id='Errol Musk', type='Person', properties={}), type='FATHER', properties={}), Relationship(source=Node(id='Elon Musk', type='Person', properties={}), target=Node(id='Kimbal Musk', type='Person', properties={}), type='BROTHER', properties={}), Relationship(source=Node(id='Elon Musk', type='Person', properties={}), target=Node(id='Spacex', type='Company', properties={}), type='CEO', properties={}), Relationship(source=Node(id='Elon Musk', type='Person', properties={}), target=Node(id='Tesla, Inc.', type='Company', properties={}), type='CEO', properties={}), Relationship(source=Node(id='Elon Musk', type='Person', properties={}), target=Node(id='X Corp.', type='Company', properties={}), type='OWNER', properties={}), Relationship(source=Node(id='Elon Musk', type='Person', properties={}), target=Node(id='The Boring Company', type='Company', properties={}), type='FOUNDER', properties={}), Relationship(source=Node(id='Elon Musk', type='Person', properties={}), target=Node(id='Xai', type='Company', properties={}), type='FOUNDER', properties={}), Relationship(source=Node(id='Elon Musk', type='Person', properties={}), target=Node(id='Neuralink', type='Company', properties={}), type='FOUNDER', properties={}), Relationship(source=Node(id='Elon Musk', type='Person', properties={}), target=Node(id='Openai', type='Company', properties={}), type='FOUNDER', properties={}), Relationship(source=Node(id='Openai', type='Company', properties={}), target=Node(id='Chatgpt', type='Software', properties={}), type='OWNED', properties={}), Relationship(source=Node(id='Elon Musk', type='Person', properties={}), target=Node(id='Zip2', type='Company', properties={}), type='CO_FOUNDER', properties={}), Relationship(source=Node(id='Elon Musk', type='Person', properties={}), target=Node(id=\"Queen'S University\", type='University', properties={}), type='ATTENDED', properties={}), Relationship(source=Node(id='Elon Musk', type='Person', properties={}), target=Node(id='University Of Pennsylvania', type='University', properties={}), type='ATTENDED', properties={}), Relationship(source=Node(id='Elon Musk', type='Person', properties={}), target=Node(id='Stanford University', type='University', properties={}), type='ATTENDED', properties={}), Relationship(source=Node(id='Elon Musk', type='Person', properties={}), target=Node(id='University Of Pretoria', type='University', properties={}), type='ATTENDED', properties={}), Relationship(source=Node(id='Elon Musk', type='Person', properties={}), target=Node(id='Wharton School', type='School', properties={}), type='ATTENDED', properties={}), Relationship(source=Node(id='Elon Musk', type='Person', properties={}), target=Node(id='College Of Arts And Sciences', type='School', properties={}), type='ATTENDED', properties={})], source=Document(metadata={}, page_content=\"Elon Musk (born June 28, 1971, in Pretoria, South Africa) is a businessman and investor with key roles in several companies. As of July 2024, Forbes estimates his net worth at US$221 billion, making him one of the wealthiest people in the world. He is the CEO of SpaceX (since 2002, headquartered in Hawthorne, California, industry: Aerospace) and Tesla, Inc. (since 2008, headquartered in Palo Alto, California, industry: Automotive and Energy). Musk owns X Corp. (formerly Twitter, acquired in 2022, headquartered in San Francisco, California, industry: Social Media). He is also a founder of The Boring Company (founded in 2016, industry: Infrastructure and Tunnel Construction), xAI (founded in 2023, industry: Artificial Intelligence), Neuralink (founded in 2016, industry: Neurotechnology), and OpenAI (founded in 2015, industry: Artificial Intelligence). OpenAI owns ChatGPT (launched in 2022, type: Conversational AI software).\\nMusk was born to Maye Musk (profession: model and dietitian, nationality: Canadian-South African) and Errol Musk (profession: electromechanical engineer, nationality: South African). He briefly attended the University of Pretoria in 1988 before moving to Canada at age 18, gaining citizenship through his Canadian-born mother. He then attended Queen's University in Kingston, Canada, from 1989 to 1991, before transferring to the University of Pennsylvania, where he earned bachelor's degrees in economics (Wharton School) and physics (College of Arts and Sciences) in 1995. In 1995, Musk moved to California to attend Stanford University for a PhD in applied physics but dropped out after two days to co-found Zip2 (founded in 1995, industry: Software, acquired by Compaq in 1999), an online city guide software company, with his brother Kimbal Musk.\"))]"
            ]
          },
          "metadata": {},
          "execution_count": 21
        }
      ]
    },
    {
      "cell_type": "code",
      "source": [
        "graph_documents[0].nodes"
      ],
      "metadata": {
        "colab": {
          "base_uri": "https://localhost:8080/"
        },
        "id": "7B677MxyT7r6",
        "outputId": "5b1798d1-cc4e-4f8b-87bd-8a058d4ac094"
      },
      "execution_count": 22,
      "outputs": [
        {
          "output_type": "execute_result",
          "data": {
            "text/plain": [
              "[Node(id='Elon Musk', type='Person', properties={}),\n",
              " Node(id='Maye Musk', type='Person', properties={}),\n",
              " Node(id='Errol Musk', type='Person', properties={}),\n",
              " Node(id='Kimbal Musk', type='Person', properties={}),\n",
              " Node(id='Spacex', type='Company', properties={}),\n",
              " Node(id='Tesla, Inc.', type='Company', properties={}),\n",
              " Node(id='X Corp.', type='Company', properties={}),\n",
              " Node(id='The Boring Company', type='Company', properties={}),\n",
              " Node(id='Xai', type='Company', properties={}),\n",
              " Node(id='Neuralink', type='Company', properties={}),\n",
              " Node(id='Openai', type='Company', properties={}),\n",
              " Node(id='Chatgpt', type='Software', properties={}),\n",
              " Node(id='Zip2', type='Company', properties={}),\n",
              " Node(id=\"Queen'S University\", type='University', properties={}),\n",
              " Node(id='University Of Pennsylvania', type='University', properties={}),\n",
              " Node(id='Stanford University', type='University', properties={}),\n",
              " Node(id='University Of Pretoria', type='University', properties={}),\n",
              " Node(id='Wharton School', type='School', properties={}),\n",
              " Node(id='College Of Arts And Sciences', type='School', properties={})]"
            ]
          },
          "metadata": {},
          "execution_count": 22
        }
      ]
    },
    {
      "cell_type": "code",
      "source": [
        "graph_documents[0].relationships"
      ],
      "metadata": {
        "colab": {
          "base_uri": "https://localhost:8080/"
        },
        "id": "pW95Bl_cT7uK",
        "outputId": "08bb2d96-1312-4045-f7a5-25f167a97bba"
      },
      "execution_count": 23,
      "outputs": [
        {
          "output_type": "execute_result",
          "data": {
            "text/plain": [
              "[Relationship(source=Node(id='Elon Musk', type='Person', properties={}), target=Node(id='Maye Musk', type='Person', properties={}), type='MOTHER', properties={}),\n",
              " Relationship(source=Node(id='Elon Musk', type='Person', properties={}), target=Node(id='Errol Musk', type='Person', properties={}), type='FATHER', properties={}),\n",
              " Relationship(source=Node(id='Elon Musk', type='Person', properties={}), target=Node(id='Kimbal Musk', type='Person', properties={}), type='BROTHER', properties={}),\n",
              " Relationship(source=Node(id='Elon Musk', type='Person', properties={}), target=Node(id='Spacex', type='Company', properties={}), type='CEO', properties={}),\n",
              " Relationship(source=Node(id='Elon Musk', type='Person', properties={}), target=Node(id='Tesla, Inc.', type='Company', properties={}), type='CEO', properties={}),\n",
              " Relationship(source=Node(id='Elon Musk', type='Person', properties={}), target=Node(id='X Corp.', type='Company', properties={}), type='OWNER', properties={}),\n",
              " Relationship(source=Node(id='Elon Musk', type='Person', properties={}), target=Node(id='The Boring Company', type='Company', properties={}), type='FOUNDER', properties={}),\n",
              " Relationship(source=Node(id='Elon Musk', type='Person', properties={}), target=Node(id='Xai', type='Company', properties={}), type='FOUNDER', properties={}),\n",
              " Relationship(source=Node(id='Elon Musk', type='Person', properties={}), target=Node(id='Neuralink', type='Company', properties={}), type='FOUNDER', properties={}),\n",
              " Relationship(source=Node(id='Elon Musk', type='Person', properties={}), target=Node(id='Openai', type='Company', properties={}), type='FOUNDER', properties={}),\n",
              " Relationship(source=Node(id='Openai', type='Company', properties={}), target=Node(id='Chatgpt', type='Software', properties={}), type='OWNED', properties={}),\n",
              " Relationship(source=Node(id='Elon Musk', type='Person', properties={}), target=Node(id='Zip2', type='Company', properties={}), type='CO_FOUNDER', properties={}),\n",
              " Relationship(source=Node(id='Elon Musk', type='Person', properties={}), target=Node(id=\"Queen'S University\", type='University', properties={}), type='ATTENDED', properties={}),\n",
              " Relationship(source=Node(id='Elon Musk', type='Person', properties={}), target=Node(id='University Of Pennsylvania', type='University', properties={}), type='ATTENDED', properties={}),\n",
              " Relationship(source=Node(id='Elon Musk', type='Person', properties={}), target=Node(id='Stanford University', type='University', properties={}), type='ATTENDED', properties={}),\n",
              " Relationship(source=Node(id='Elon Musk', type='Person', properties={}), target=Node(id='University Of Pretoria', type='University', properties={}), type='ATTENDED', properties={}),\n",
              " Relationship(source=Node(id='Elon Musk', type='Person', properties={}), target=Node(id='Wharton School', type='School', properties={}), type='ATTENDED', properties={}),\n",
              " Relationship(source=Node(id='Elon Musk', type='Person', properties={}), target=Node(id='College Of Arts And Sciences', type='School', properties={}), type='ATTENDED', properties={})]"
            ]
          },
          "metadata": {},
          "execution_count": 23
        }
      ]
    },
    {
      "cell_type": "code",
      "source": [
        "# iterate through each node in the first graph document\n",
        "for node in graph_documents[0].nodes:\n",
        "  print(node.type, '||', node.id, '||', node.properties)\n",
        "  #create a cypher query to merge the node into the graph database\n",
        "  cypher_query = f'MERGE (n:{node.type.replace(\" \", \"_\")} {{id: $id}}) SET n += $properties'\n",
        "  #execute the cypher query using the graph database connection\n",
        "  graph.query(cypher_query, {'id': node.id, 'properties': node.properties})\n"
      ],
      "metadata": {
        "colab": {
          "base_uri": "https://localhost:8080/"
        },
        "id": "OB3oygk2T7wI",
        "outputId": "fc16371d-4d82-4699-9450-a5622d2be10b"
      },
      "execution_count": 25,
      "outputs": [
        {
          "output_type": "stream",
          "name": "stdout",
          "text": [
            "Person || Elon Musk || {}\n",
            "Person || Maye Musk || {}\n",
            "Person || Errol Musk || {}\n",
            "Person || Kimbal Musk || {}\n",
            "Company || Spacex || {}\n",
            "Company || Tesla, Inc. || {}\n",
            "Company || X Corp. || {}\n",
            "Company || The Boring Company || {}\n",
            "Company || Xai || {}\n",
            "Company || Neuralink || {}\n",
            "Company || Openai || {}\n",
            "Software || Chatgpt || {}\n",
            "Company || Zip2 || {}\n",
            "University || Queen'S University || {}\n",
            "University || University Of Pennsylvania || {}\n",
            "University || Stanford University || {}\n",
            "University || University Of Pretoria || {}\n",
            "School || Wharton School || {}\n",
            "School || College Of Arts And Sciences || {}\n"
          ]
        }
      ]
    },
    {
      "cell_type": "code",
      "source": [
        "#iterate through each relationship in the first graph document\n",
        "for rel in graph_documents[0].relationships:\n",
        "  src_node = rel.source\n",
        "  tgt_node = rel.target\n",
        "  relationship_type = rel.type\n",
        "  #print the source node, target node, relationship type and properties of the relationship\n",
        "  print(src_node, '||', tgt_node, '||', relationship_type, '||', rel.properties)\n",
        "  rel_query = f'MATCH (a{{id: $src_node_id}}), (b {{id: $tgt_node_id}}) MERGE (a)-[r:{relationship_type.replace(\"-\",\"_\")}]->(b) SET r += $properties'\n",
        "  graph.query(rel_query, {'src_node_id': src_node.id, \"tgt_node_id\": tgt_node.id, 'properties': rel.properties})"
      ],
      "metadata": {
        "colab": {
          "base_uri": "https://localhost:8080/"
        },
        "id": "Nv2QegtHT7zn",
        "outputId": "aac4c34d-998a-4d56-c87c-8795cf85d27a"
      },
      "execution_count": 26,
      "outputs": [
        {
          "output_type": "stream",
          "name": "stdout",
          "text": [
            "id='Elon Musk' type='Person' properties={} || id='Maye Musk' type='Person' properties={} || MOTHER || {}\n",
            "id='Elon Musk' type='Person' properties={} || id='Errol Musk' type='Person' properties={} || FATHER || {}\n",
            "id='Elon Musk' type='Person' properties={} || id='Kimbal Musk' type='Person' properties={} || BROTHER || {}\n",
            "id='Elon Musk' type='Person' properties={} || id='Spacex' type='Company' properties={} || CEO || {}\n",
            "id='Elon Musk' type='Person' properties={} || id='Tesla, Inc.' type='Company' properties={} || CEO || {}\n",
            "id='Elon Musk' type='Person' properties={} || id='X Corp.' type='Company' properties={} || OWNER || {}\n",
            "id='Elon Musk' type='Person' properties={} || id='The Boring Company' type='Company' properties={} || FOUNDER || {}\n",
            "id='Elon Musk' type='Person' properties={} || id='Xai' type='Company' properties={} || FOUNDER || {}\n",
            "id='Elon Musk' type='Person' properties={} || id='Neuralink' type='Company' properties={} || FOUNDER || {}\n",
            "id='Elon Musk' type='Person' properties={} || id='Openai' type='Company' properties={} || FOUNDER || {}\n",
            "id='Openai' type='Company' properties={} || id='Chatgpt' type='Software' properties={} || OWNED || {}\n",
            "id='Elon Musk' type='Person' properties={} || id='Zip2' type='Company' properties={} || CO_FOUNDER || {}\n",
            "id='Elon Musk' type='Person' properties={} || id=\"Queen'S University\" type='University' properties={} || ATTENDED || {}\n",
            "id='Elon Musk' type='Person' properties={} || id='University Of Pennsylvania' type='University' properties={} || ATTENDED || {}\n",
            "id='Elon Musk' type='Person' properties={} || id='Stanford University' type='University' properties={} || ATTENDED || {}\n",
            "id='Elon Musk' type='Person' properties={} || id='University Of Pretoria' type='University' properties={} || ATTENDED || {}\n",
            "id='Elon Musk' type='Person' properties={} || id='Wharton School' type='School' properties={} || ATTENDED || {}\n",
            "id='Elon Musk' type='Person' properties={} || id='College Of Arts And Sciences' type='School' properties={} || ATTENDED || {}\n"
          ]
        }
      ]
    },
    {
      "cell_type": "code",
      "source": [
        "graph.refresh_schema()\n",
        "print(graph.schema)"
      ],
      "metadata": {
        "colab": {
          "base_uri": "https://localhost:8080/"
        },
        "id": "uUH7YyNJYQe6",
        "outputId": "ca445800-be6c-447a-931e-5adca53adcd7"
      },
      "execution_count": 27,
      "outputs": [
        {
          "output_type": "stream",
          "name": "stdout",
          "text": [
            "Node properties:\n",
            "Person {id: STRING}\n",
            "Company {id: STRING}\n",
            "Software {id: STRING}\n",
            "University {id: STRING}\n",
            "School {id: STRING}\n",
            "Relationship properties:\n",
            "\n",
            "The relationships:\n",
            "(:Person)-[:MOTHER]->(:Person)\n",
            "(:Person)-[:FATHER]->(:Person)\n",
            "(:Person)-[:BROTHER]->(:Person)\n",
            "(:Person)-[:CEO]->(:Company)\n",
            "(:Person)-[:OWNER]->(:Company)\n",
            "(:Person)-[:FOUNDER]->(:Company)\n",
            "(:Person)-[:CO_FOUNDER]->(:Company)\n",
            "(:Person)-[:ATTENDED]->(:University)\n",
            "(:Person)-[:ATTENDED]->(:School)\n",
            "(:Company)-[:OWNED]->(:Software)\n"
          ]
        }
      ]
    },
    {
      "cell_type": "code",
      "source": [
        "text_new = \"\"\"\n",
        "Albert Einstein, a well-known theroretical physicist, was born in Ulm, on 14 March 1879.\n",
        "Ulm is a city in Germany.\n",
        "He is best known for developing the theory of relativity, a fundamental concept in physics.\n",
        "Albert Einstein won the Nobel Prize in Physics in the year 1921.\n",
        "Nobel Prizes are a set of prestigious international awards presented annually to individuals or organizations who have made outstanding contributions in various fields.\n",
        "\"\"\"\n",
        "documents_new = [Document(page_content=text_new)]\n",
        "documents_new"
      ],
      "metadata": {
        "colab": {
          "base_uri": "https://localhost:8080/"
        },
        "id": "CWr8FJXBYQgs",
        "outputId": "46014eb6-98bf-4ca2-82fe-475db2110f00"
      },
      "execution_count": 28,
      "outputs": [
        {
          "output_type": "execute_result",
          "data": {
            "text/plain": [
              "[Document(metadata={}, page_content='\\nAlbert Einstein, a well-known theroretical physicist, was born in Ulm, on 14 March 1879.\\nUlm is a city in Germany.\\nHe is best known for developing the theory of relativity, a fundamental concept in physics.\\nAlbert Einstein won the Nobel Prize in Physics in the year 1921.\\nNobel Prizes are a set of prestigious international awards presented annually to individuals or organizations who have made outstanding contributions in various fields. \\n')]"
            ]
          },
          "metadata": {},
          "execution_count": 28
        }
      ]
    },
    {
      "cell_type": "code",
      "source": [
        "llm_transformer = LLMGraphTransformer(\n",
        "    llm=llm, node_properties=True, relationship_properties=True\n",
        ")\n",
        "graph_documents_new = llm_transformer.convert_to_graph_documents(documents_new)\n",
        "graph_documents_new"
      ],
      "metadata": {
        "colab": {
          "base_uri": "https://localhost:8080/"
        },
        "id": "T0l1nzWXYQi1",
        "outputId": "e36f3aeb-3da7-4a78-e6bf-cc406915d41d"
      },
      "execution_count": 29,
      "outputs": [
        {
          "output_type": "execute_result",
          "data": {
            "text/plain": [
              "[GraphDocument(nodes=[Node(id='Albert Einstein', type='Person', properties={'born': '14 March 1879', 'birthplace': 'Ulm', 'occupation': 'Theoretical Physicist'}), Node(id='Ulm', type='City', properties={'country': 'Germany'}), Node(id='Theory Of Relativity', type='Concept', properties={}), Node(id='Nobel Prize In Physics', type='Award', properties={}), Node(id='Nobel Prizes', type='Awardseries', properties={})], relationships=[Relationship(source=Node(id='Albert Einstein', type='Person', properties={}), target=Node(id='Theory Of Relativity', type='Concept', properties={}), type='DEVELOPED', properties={}), Relationship(source=Node(id='Albert Einstein', type='Person', properties={}), target=Node(id='Nobel Prize In Physics', type='Award', properties={}), type='WON', properties={}), Relationship(source=Node(id='Nobel Prize In Physics', type='Award', properties={}), target=Node(id='Nobel Prizes', type='Awardseries', properties={}), type='PART_OF', properties={})], source=Document(metadata={}, page_content='\\nAlbert Einstein, a well-known theroretical physicist, was born in Ulm, on 14 March 1879.\\nUlm is a city in Germany.\\nHe is best known for developing the theory of relativity, a fundamental concept in physics.\\nAlbert Einstein won the Nobel Prize in Physics in the year 1921.\\nNobel Prizes are a set of prestigious international awards presented annually to individuals or organizations who have made outstanding contributions in various fields. \\n'))]"
            ]
          },
          "metadata": {},
          "execution_count": 29
        }
      ]
    },
    {
      "cell_type": "code",
      "source": [
        "graph_documents_new[0].nodes"
      ],
      "metadata": {
        "colab": {
          "base_uri": "https://localhost:8080/"
        },
        "id": "TWPazF4SYQkb",
        "outputId": "3b20782c-b1d5-4f80-e97b-abb2ce4f01aa"
      },
      "execution_count": 30,
      "outputs": [
        {
          "output_type": "execute_result",
          "data": {
            "text/plain": [
              "[Node(id='Albert Einstein', type='Person', properties={'born': '14 March 1879', 'birthplace': 'Ulm', 'occupation': 'Theoretical Physicist'}),\n",
              " Node(id='Ulm', type='City', properties={'country': 'Germany'}),\n",
              " Node(id='Theory Of Relativity', type='Concept', properties={}),\n",
              " Node(id='Nobel Prize In Physics', type='Award', properties={}),\n",
              " Node(id='Nobel Prizes', type='Awardseries', properties={})]"
            ]
          },
          "metadata": {},
          "execution_count": 30
        }
      ]
    },
    {
      "cell_type": "code",
      "source": [
        "graph_documents_new[0].relationships"
      ],
      "metadata": {
        "colab": {
          "base_uri": "https://localhost:8080/"
        },
        "id": "-K7T_siQYQoA",
        "outputId": "3c8edf99-1fb3-4420-f3c7-fcc1d81115a9"
      },
      "execution_count": 31,
      "outputs": [
        {
          "output_type": "execute_result",
          "data": {
            "text/plain": [
              "[Relationship(source=Node(id='Albert Einstein', type='Person', properties={}), target=Node(id='Theory Of Relativity', type='Concept', properties={}), type='DEVELOPED', properties={}),\n",
              " Relationship(source=Node(id='Albert Einstein', type='Person', properties={}), target=Node(id='Nobel Prize In Physics', type='Award', properties={}), type='WON', properties={}),\n",
              " Relationship(source=Node(id='Nobel Prize In Physics', type='Award', properties={}), target=Node(id='Nobel Prizes', type='Awardseries', properties={}), type='PART_OF', properties={})]"
            ]
          },
          "metadata": {},
          "execution_count": 31
        }
      ]
    },
    {
      "cell_type": "code",
      "source": [
        "# iterate through each node in the first graph document\n",
        "for node in graph_documents_new[0].nodes:\n",
        "  print(node.type, '||', node.id, '||', node.properties)\n",
        "  #create a cypher query to merge the node into the graph database\n",
        "  cypher_query = f'MERGE (n:{node.type.replace(\" \", \"_\")} {{id: $id}}) SET n += $properties'\n",
        "  #execute the cypher query using the graph database connection\n",
        "  graph.query(cypher_query, {'id': node.id, 'properties': node.properties})"
      ],
      "metadata": {
        "colab": {
          "base_uri": "https://localhost:8080/"
        },
        "id": "6U_QjLjhZ-ii",
        "outputId": "efd15363-061d-4953-be79-4e0df0d650cd"
      },
      "execution_count": 32,
      "outputs": [
        {
          "output_type": "stream",
          "name": "stdout",
          "text": [
            "Person || Albert Einstein || {'born': '14 March 1879', 'birthplace': 'Ulm', 'occupation': 'Theoretical Physicist'}\n",
            "City || Ulm || {'country': 'Germany'}\n",
            "Concept || Theory Of Relativity || {}\n",
            "Award || Nobel Prize In Physics || {}\n",
            "Awardseries || Nobel Prizes || {}\n"
          ]
        }
      ]
    },
    {
      "cell_type": "code",
      "source": [
        "# iterate through the relationships in the first graph document\n",
        "for rel in graph_documents_new[0].relationships:\n",
        "  src_node = rel.source\n",
        "  tgt_node = rel.target\n",
        "  relationship_type = rel.type\n",
        "  print(src_node, '||', tgt_node, '||', relationship_type, '||', rel.properties)\n",
        "  rel_query = f'MATCH (a{{id: $src_node_id}}), (b {{id: $tgt_node_id}}) MERGE (a)-[r:{relationship_type.replace(\"-\",\"_\")}]->(b) SET r += $properties'\n",
        "  graph.query(rel_query, {'src_node_id': src_node.id, \"tgt_node_id\": tgt_node.id, 'properties': rel.properties})"
      ],
      "metadata": {
        "colab": {
          "base_uri": "https://localhost:8080/"
        },
        "id": "ur0GZeFmZ-kn",
        "outputId": "8c9362fb-21e9-4ce8-b558-8229d1b9f9cb"
      },
      "execution_count": 33,
      "outputs": [
        {
          "output_type": "stream",
          "name": "stdout",
          "text": [
            "id='Albert Einstein' type='Person' properties={} || id='Theory Of Relativity' type='Concept' properties={} || DEVELOPED || {}\n",
            "id='Albert Einstein' type='Person' properties={} || id='Nobel Prize In Physics' type='Award' properties={} || WON || {}\n",
            "id='Nobel Prize In Physics' type='Award' properties={} || id='Nobel Prizes' type='Awardseries' properties={} || PART_OF || {}\n"
          ]
        }
      ]
    },
    {
      "cell_type": "markdown",
      "source": [
        "# Attempting RAG with Neo4j"
      ],
      "metadata": {
        "id": "FlMZinowd1P1"
      }
    },
    {
      "cell_type": "code",
      "source": [
        "%pip install chromadb"
      ],
      "metadata": {
        "colab": {
          "base_uri": "https://localhost:8080/"
        },
        "id": "8pyYhMFKyCRr",
        "outputId": "39e12cb0-59db-41c4-83e9-01a00d2477b6"
      },
      "execution_count": 42,
      "outputs": [
        {
          "output_type": "stream",
          "name": "stdout",
          "text": [
            "Collecting chromadb\n",
            "  Downloading chromadb-1.0.15-cp39-abi3-manylinux_2_17_x86_64.manylinux2014_x86_64.whl.metadata (7.0 kB)\n",
            "Requirement already satisfied: build>=1.0.3 in /usr/local/lib/python3.11/dist-packages (from chromadb) (1.2.2.post1)\n",
            "Requirement already satisfied: pydantic>=1.9 in /usr/local/lib/python3.11/dist-packages (from chromadb) (2.11.7)\n",
            "Collecting pybase64>=1.4.1 (from chromadb)\n",
            "  Downloading pybase64-1.4.1-cp311-cp311-manylinux_2_5_x86_64.manylinux1_x86_64.manylinux_2_17_x86_64.manylinux2014_x86_64.whl.metadata (8.4 kB)\n",
            "Requirement already satisfied: uvicorn>=0.18.3 in /usr/local/lib/python3.11/dist-packages (from uvicorn[standard]>=0.18.3->chromadb) (0.35.0)\n",
            "Requirement already satisfied: numpy>=1.22.5 in /usr/local/lib/python3.11/dist-packages (from chromadb) (2.0.2)\n",
            "Collecting posthog<6.0.0,>=2.4.0 (from chromadb)\n",
            "  Downloading posthog-5.4.0-py3-none-any.whl.metadata (5.7 kB)\n",
            "Requirement already satisfied: typing-extensions>=4.5.0 in /usr/local/lib/python3.11/dist-packages (from chromadb) (4.14.1)\n",
            "Collecting onnxruntime>=1.14.1 (from chromadb)\n",
            "  Downloading onnxruntime-1.22.1-cp311-cp311-manylinux_2_27_x86_64.manylinux_2_28_x86_64.whl.metadata (4.6 kB)\n",
            "Collecting opentelemetry-api>=1.2.0 (from chromadb)\n",
            "  Downloading opentelemetry_api-1.35.0-py3-none-any.whl.metadata (1.5 kB)\n",
            "Collecting opentelemetry-exporter-otlp-proto-grpc>=1.2.0 (from chromadb)\n",
            "  Downloading opentelemetry_exporter_otlp_proto_grpc-1.35.0-py3-none-any.whl.metadata (2.4 kB)\n",
            "Collecting opentelemetry-sdk>=1.2.0 (from chromadb)\n",
            "  Downloading opentelemetry_sdk-1.35.0-py3-none-any.whl.metadata (1.5 kB)\n",
            "Requirement already satisfied: tokenizers>=0.13.2 in /usr/local/lib/python3.11/dist-packages (from chromadb) (0.21.2)\n",
            "Collecting pypika>=0.48.9 (from chromadb)\n",
            "  Downloading PyPika-0.48.9.tar.gz (67 kB)\n",
            "\u001b[2K     \u001b[90m━━━━━━━━━━━━━━━━━━━━━━━━━━━━━━━━━━━━━━━━\u001b[0m \u001b[32m67.3/67.3 kB\u001b[0m \u001b[31m4.4 MB/s\u001b[0m eta \u001b[36m0:00:00\u001b[0m\n",
            "\u001b[?25h  Installing build dependencies ... \u001b[?25l\u001b[?25hdone\n",
            "  Getting requirements to build wheel ... \u001b[?25l\u001b[?25hdone\n",
            "  Preparing metadata (pyproject.toml) ... \u001b[?25l\u001b[?25hdone\n",
            "Requirement already satisfied: tqdm>=4.65.0 in /usr/local/lib/python3.11/dist-packages (from chromadb) (4.67.1)\n",
            "Collecting overrides>=7.3.1 (from chromadb)\n",
            "  Downloading overrides-7.7.0-py3-none-any.whl.metadata (5.8 kB)\n",
            "Requirement already satisfied: importlib-resources in /usr/local/lib/python3.11/dist-packages (from chromadb) (6.5.2)\n",
            "Requirement already satisfied: grpcio>=1.58.0 in /usr/local/lib/python3.11/dist-packages (from chromadb) (1.73.1)\n",
            "Collecting bcrypt>=4.0.1 (from chromadb)\n",
            "  Downloading bcrypt-4.3.0-cp39-abi3-manylinux_2_34_x86_64.whl.metadata (10 kB)\n",
            "Requirement already satisfied: typer>=0.9.0 in /usr/local/lib/python3.11/dist-packages (from chromadb) (0.16.0)\n",
            "Collecting kubernetes>=28.1.0 (from chromadb)\n",
            "  Downloading kubernetes-33.1.0-py2.py3-none-any.whl.metadata (1.7 kB)\n",
            "Requirement already satisfied: tenacity>=8.2.3 in /usr/local/lib/python3.11/dist-packages (from chromadb) (8.5.0)\n",
            "Requirement already satisfied: pyyaml>=6.0.0 in /usr/local/lib/python3.11/dist-packages (from chromadb) (6.0.2)\n",
            "Collecting mmh3>=4.0.1 (from chromadb)\n",
            "  Downloading mmh3-5.1.0-cp311-cp311-manylinux_2_5_x86_64.manylinux1_x86_64.manylinux_2_17_x86_64.manylinux2014_x86_64.whl.metadata (16 kB)\n",
            "Requirement already satisfied: orjson>=3.9.12 in /usr/local/lib/python3.11/dist-packages (from chromadb) (3.11.0)\n",
            "Requirement already satisfied: httpx>=0.27.0 in /usr/local/lib/python3.11/dist-packages (from chromadb) (0.28.1)\n",
            "Requirement already satisfied: rich>=10.11.0 in /usr/local/lib/python3.11/dist-packages (from chromadb) (13.9.4)\n",
            "Requirement already satisfied: jsonschema>=4.19.0 in /usr/local/lib/python3.11/dist-packages (from chromadb) (4.25.0)\n",
            "Requirement already satisfied: packaging>=19.1 in /usr/local/lib/python3.11/dist-packages (from build>=1.0.3->chromadb) (25.0)\n",
            "Requirement already satisfied: pyproject_hooks in /usr/local/lib/python3.11/dist-packages (from build>=1.0.3->chromadb) (1.2.0)\n",
            "Requirement already satisfied: anyio in /usr/local/lib/python3.11/dist-packages (from httpx>=0.27.0->chromadb) (4.9.0)\n",
            "Requirement already satisfied: certifi in /usr/local/lib/python3.11/dist-packages (from httpx>=0.27.0->chromadb) (2025.7.14)\n",
            "Requirement already satisfied: httpcore==1.* in /usr/local/lib/python3.11/dist-packages (from httpx>=0.27.0->chromadb) (1.0.9)\n",
            "Requirement already satisfied: idna in /usr/local/lib/python3.11/dist-packages (from httpx>=0.27.0->chromadb) (3.10)\n",
            "Requirement already satisfied: h11>=0.16 in /usr/local/lib/python3.11/dist-packages (from httpcore==1.*->httpx>=0.27.0->chromadb) (0.16.0)\n",
            "Requirement already satisfied: attrs>=22.2.0 in /usr/local/lib/python3.11/dist-packages (from jsonschema>=4.19.0->chromadb) (25.3.0)\n",
            "Requirement already satisfied: jsonschema-specifications>=2023.03.6 in /usr/local/lib/python3.11/dist-packages (from jsonschema>=4.19.0->chromadb) (2025.4.1)\n",
            "Requirement already satisfied: referencing>=0.28.4 in /usr/local/lib/python3.11/dist-packages (from jsonschema>=4.19.0->chromadb) (0.36.2)\n",
            "Requirement already satisfied: rpds-py>=0.7.1 in /usr/local/lib/python3.11/dist-packages (from jsonschema>=4.19.0->chromadb) (0.26.0)\n",
            "Requirement already satisfied: six>=1.9.0 in /usr/local/lib/python3.11/dist-packages (from kubernetes>=28.1.0->chromadb) (1.17.0)\n",
            "Requirement already satisfied: python-dateutil>=2.5.3 in /usr/local/lib/python3.11/dist-packages (from kubernetes>=28.1.0->chromadb) (2.9.0.post0)\n",
            "Requirement already satisfied: google-auth>=1.0.1 in /usr/local/lib/python3.11/dist-packages (from kubernetes>=28.1.0->chromadb) (2.38.0)\n",
            "Requirement already satisfied: websocket-client!=0.40.0,!=0.41.*,!=0.42.*,>=0.32.0 in /usr/local/lib/python3.11/dist-packages (from kubernetes>=28.1.0->chromadb) (1.8.0)\n",
            "Requirement already satisfied: requests in /usr/local/lib/python3.11/dist-packages (from kubernetes>=28.1.0->chromadb) (2.32.3)\n",
            "Requirement already satisfied: requests-oauthlib in /usr/local/lib/python3.11/dist-packages (from kubernetes>=28.1.0->chromadb) (2.0.0)\n",
            "Requirement already satisfied: oauthlib>=3.2.2 in /usr/local/lib/python3.11/dist-packages (from kubernetes>=28.1.0->chromadb) (3.3.1)\n",
            "Requirement already satisfied: urllib3>=1.24.2 in /usr/local/lib/python3.11/dist-packages (from kubernetes>=28.1.0->chromadb) (2.5.0)\n",
            "Collecting durationpy>=0.7 (from kubernetes>=28.1.0->chromadb)\n",
            "  Downloading durationpy-0.10-py3-none-any.whl.metadata (340 bytes)\n",
            "Collecting coloredlogs (from onnxruntime>=1.14.1->chromadb)\n",
            "  Downloading coloredlogs-15.0.1-py2.py3-none-any.whl.metadata (12 kB)\n",
            "Requirement already satisfied: flatbuffers in /usr/local/lib/python3.11/dist-packages (from onnxruntime>=1.14.1->chromadb) (25.2.10)\n",
            "Requirement already satisfied: protobuf in /usr/local/lib/python3.11/dist-packages (from onnxruntime>=1.14.1->chromadb) (5.29.5)\n",
            "Requirement already satisfied: sympy in /usr/local/lib/python3.11/dist-packages (from onnxruntime>=1.14.1->chromadb) (1.13.1)\n",
            "Requirement already satisfied: importlib-metadata<8.8.0,>=6.0 in /usr/local/lib/python3.11/dist-packages (from opentelemetry-api>=1.2.0->chromadb) (8.7.0)\n",
            "Requirement already satisfied: googleapis-common-protos~=1.57 in /usr/local/lib/python3.11/dist-packages (from opentelemetry-exporter-otlp-proto-grpc>=1.2.0->chromadb) (1.70.0)\n",
            "Collecting opentelemetry-exporter-otlp-proto-common==1.35.0 (from opentelemetry-exporter-otlp-proto-grpc>=1.2.0->chromadb)\n",
            "  Downloading opentelemetry_exporter_otlp_proto_common-1.35.0-py3-none-any.whl.metadata (1.8 kB)\n",
            "Collecting opentelemetry-proto==1.35.0 (from opentelemetry-exporter-otlp-proto-grpc>=1.2.0->chromadb)\n",
            "  Downloading opentelemetry_proto-1.35.0-py3-none-any.whl.metadata (2.3 kB)\n",
            "Collecting opentelemetry-semantic-conventions==0.56b0 (from opentelemetry-sdk>=1.2.0->chromadb)\n",
            "  Downloading opentelemetry_semantic_conventions-0.56b0-py3-none-any.whl.metadata (2.4 kB)\n",
            "Collecting backoff>=1.10.0 (from posthog<6.0.0,>=2.4.0->chromadb)\n",
            "  Downloading backoff-2.2.1-py3-none-any.whl.metadata (14 kB)\n",
            "Requirement already satisfied: distro>=1.5.0 in /usr/local/lib/python3.11/dist-packages (from posthog<6.0.0,>=2.4.0->chromadb) (1.9.0)\n",
            "Requirement already satisfied: annotated-types>=0.6.0 in /usr/local/lib/python3.11/dist-packages (from pydantic>=1.9->chromadb) (0.7.0)\n",
            "Requirement already satisfied: pydantic-core==2.33.2 in /usr/local/lib/python3.11/dist-packages (from pydantic>=1.9->chromadb) (2.33.2)\n",
            "Requirement already satisfied: typing-inspection>=0.4.0 in /usr/local/lib/python3.11/dist-packages (from pydantic>=1.9->chromadb) (0.4.1)\n",
            "Requirement already satisfied: markdown-it-py>=2.2.0 in /usr/local/lib/python3.11/dist-packages (from rich>=10.11.0->chromadb) (3.0.0)\n",
            "Requirement already satisfied: pygments<3.0.0,>=2.13.0 in /usr/local/lib/python3.11/dist-packages (from rich>=10.11.0->chromadb) (2.19.2)\n",
            "Requirement already satisfied: huggingface-hub<1.0,>=0.16.4 in /usr/local/lib/python3.11/dist-packages (from tokenizers>=0.13.2->chromadb) (0.33.4)\n",
            "Requirement already satisfied: click>=8.0.0 in /usr/local/lib/python3.11/dist-packages (from typer>=0.9.0->chromadb) (8.2.1)\n",
            "Requirement already satisfied: shellingham>=1.3.0 in /usr/local/lib/python3.11/dist-packages (from typer>=0.9.0->chromadb) (1.5.4)\n",
            "Collecting httptools>=0.6.3 (from uvicorn[standard]>=0.18.3->chromadb)\n",
            "  Downloading httptools-0.6.4-cp311-cp311-manylinux_2_5_x86_64.manylinux1_x86_64.manylinux_2_17_x86_64.manylinux2014_x86_64.whl.metadata (3.6 kB)\n",
            "Requirement already satisfied: python-dotenv>=0.13 in /usr/local/lib/python3.11/dist-packages (from uvicorn[standard]>=0.18.3->chromadb) (1.1.1)\n",
            "Collecting uvloop>=0.15.1 (from uvicorn[standard]>=0.18.3->chromadb)\n",
            "  Downloading uvloop-0.21.0-cp311-cp311-manylinux_2_17_x86_64.manylinux2014_x86_64.whl.metadata (4.9 kB)\n",
            "Collecting watchfiles>=0.13 (from uvicorn[standard]>=0.18.3->chromadb)\n",
            "  Downloading watchfiles-1.1.0-cp311-cp311-manylinux_2_17_x86_64.manylinux2014_x86_64.whl.metadata (4.9 kB)\n",
            "Requirement already satisfied: websockets>=10.4 in /usr/local/lib/python3.11/dist-packages (from uvicorn[standard]>=0.18.3->chromadb) (15.0.1)\n",
            "Requirement already satisfied: cachetools<6.0,>=2.0.0 in /usr/local/lib/python3.11/dist-packages (from google-auth>=1.0.1->kubernetes>=28.1.0->chromadb) (5.5.2)\n",
            "Requirement already satisfied: pyasn1-modules>=0.2.1 in /usr/local/lib/python3.11/dist-packages (from google-auth>=1.0.1->kubernetes>=28.1.0->chromadb) (0.4.2)\n",
            "Requirement already satisfied: rsa<5,>=3.1.4 in /usr/local/lib/python3.11/dist-packages (from google-auth>=1.0.1->kubernetes>=28.1.0->chromadb) (4.9.1)\n",
            "Requirement already satisfied: filelock in /usr/local/lib/python3.11/dist-packages (from huggingface-hub<1.0,>=0.16.4->tokenizers>=0.13.2->chromadb) (3.18.0)\n",
            "Requirement already satisfied: fsspec>=2023.5.0 in /usr/local/lib/python3.11/dist-packages (from huggingface-hub<1.0,>=0.16.4->tokenizers>=0.13.2->chromadb) (2025.7.0)\n",
            "Requirement already satisfied: hf-xet<2.0.0,>=1.1.2 in /usr/local/lib/python3.11/dist-packages (from huggingface-hub<1.0,>=0.16.4->tokenizers>=0.13.2->chromadb) (1.1.5)\n",
            "Requirement already satisfied: zipp>=3.20 in /usr/local/lib/python3.11/dist-packages (from importlib-metadata<8.8.0,>=6.0->opentelemetry-api>=1.2.0->chromadb) (3.23.0)\n",
            "Requirement already satisfied: mdurl~=0.1 in /usr/local/lib/python3.11/dist-packages (from markdown-it-py>=2.2.0->rich>=10.11.0->chromadb) (0.1.2)\n",
            "Requirement already satisfied: charset-normalizer<4,>=2 in /usr/local/lib/python3.11/dist-packages (from requests->kubernetes>=28.1.0->chromadb) (3.4.2)\n",
            "Requirement already satisfied: sniffio>=1.1 in /usr/local/lib/python3.11/dist-packages (from anyio->httpx>=0.27.0->chromadb) (1.3.1)\n",
            "Collecting humanfriendly>=9.1 (from coloredlogs->onnxruntime>=1.14.1->chromadb)\n",
            "  Downloading humanfriendly-10.0-py2.py3-none-any.whl.metadata (9.2 kB)\n",
            "Requirement already satisfied: mpmath<1.4,>=1.1.0 in /usr/local/lib/python3.11/dist-packages (from sympy->onnxruntime>=1.14.1->chromadb) (1.3.0)\n",
            "Requirement already satisfied: pyasn1<0.7.0,>=0.6.1 in /usr/local/lib/python3.11/dist-packages (from pyasn1-modules>=0.2.1->google-auth>=1.0.1->kubernetes>=28.1.0->chromadb) (0.6.1)\n",
            "Downloading chromadb-1.0.15-cp39-abi3-manylinux_2_17_x86_64.manylinux2014_x86_64.whl (19.5 MB)\n",
            "\u001b[2K   \u001b[90m━━━━━━━━━━━━━━━━━━━━━━━━━━━━━━━━━━━━━━━━\u001b[0m \u001b[32m19.5/19.5 MB\u001b[0m \u001b[31m45.8 MB/s\u001b[0m eta \u001b[36m0:00:00\u001b[0m\n",
            "\u001b[?25hDownloading bcrypt-4.3.0-cp39-abi3-manylinux_2_34_x86_64.whl (284 kB)\n",
            "\u001b[2K   \u001b[90m━━━━━━━━━━━━━━━━━━━━━━━━━━━━━━━━━━━━━━━━\u001b[0m \u001b[32m284.2/284.2 kB\u001b[0m \u001b[31m14.1 MB/s\u001b[0m eta \u001b[36m0:00:00\u001b[0m\n",
            "\u001b[?25hDownloading kubernetes-33.1.0-py2.py3-none-any.whl (1.9 MB)\n",
            "\u001b[2K   \u001b[90m━━━━━━━━━━━━━━━━━━━━━━━━━━━━━━━━━━━━━━━━\u001b[0m \u001b[32m1.9/1.9 MB\u001b[0m \u001b[31m51.0 MB/s\u001b[0m eta \u001b[36m0:00:00\u001b[0m\n",
            "\u001b[?25hDownloading mmh3-5.1.0-cp311-cp311-manylinux_2_5_x86_64.manylinux1_x86_64.manylinux_2_17_x86_64.manylinux2014_x86_64.whl (101 kB)\n",
            "\u001b[2K   \u001b[90m━━━━━━━━━━━━━━━━━━━━━━━━━━━━━━━━━━━━━━━━\u001b[0m \u001b[32m101.6/101.6 kB\u001b[0m \u001b[31m6.3 MB/s\u001b[0m eta \u001b[36m0:00:00\u001b[0m\n",
            "\u001b[?25hDownloading onnxruntime-1.22.1-cp311-cp311-manylinux_2_27_x86_64.manylinux_2_28_x86_64.whl (16.5 MB)\n",
            "\u001b[2K   \u001b[90m━━━━━━━━━━━━━━━━━━━━━━━━━━━━━━━━━━━━━━━━\u001b[0m \u001b[32m16.5/16.5 MB\u001b[0m \u001b[31m48.1 MB/s\u001b[0m eta \u001b[36m0:00:00\u001b[0m\n",
            "\u001b[?25hDownloading opentelemetry_api-1.35.0-py3-none-any.whl (65 kB)\n",
            "\u001b[2K   \u001b[90m━━━━━━━━━━━━━━━━━━━━━━━━━━━━━━━━━━━━━━━━\u001b[0m \u001b[32m65.6/65.6 kB\u001b[0m \u001b[31m4.4 MB/s\u001b[0m eta \u001b[36m0:00:00\u001b[0m\n",
            "\u001b[?25hDownloading opentelemetry_exporter_otlp_proto_grpc-1.35.0-py3-none-any.whl (18 kB)\n",
            "Downloading opentelemetry_exporter_otlp_proto_common-1.35.0-py3-none-any.whl (18 kB)\n",
            "Downloading opentelemetry_proto-1.35.0-py3-none-any.whl (72 kB)\n",
            "\u001b[2K   \u001b[90m━━━━━━━━━━━━━━━━━━━━━━━━━━━━━━━━━━━━━━━━\u001b[0m \u001b[32m72.5/72.5 kB\u001b[0m \u001b[31m6.6 MB/s\u001b[0m eta \u001b[36m0:00:00\u001b[0m\n",
            "\u001b[?25hDownloading opentelemetry_sdk-1.35.0-py3-none-any.whl (119 kB)\n",
            "\u001b[2K   \u001b[90m━━━━━━━━━━━━━━━━━━━━━━━━━━━━━━━━━━━━━━━━\u001b[0m \u001b[32m119.4/119.4 kB\u001b[0m \u001b[31m8.8 MB/s\u001b[0m eta \u001b[36m0:00:00\u001b[0m\n",
            "\u001b[?25hDownloading opentelemetry_semantic_conventions-0.56b0-py3-none-any.whl (201 kB)\n",
            "\u001b[2K   \u001b[90m━━━━━━━━━━━━━━━━━━━━━━━━━━━━━━━━━━━━━━━━\u001b[0m \u001b[32m201.6/201.6 kB\u001b[0m \u001b[31m15.0 MB/s\u001b[0m eta \u001b[36m0:00:00\u001b[0m\n",
            "\u001b[?25hDownloading overrides-7.7.0-py3-none-any.whl (17 kB)\n",
            "Downloading posthog-5.4.0-py3-none-any.whl (105 kB)\n",
            "\u001b[2K   \u001b[90m━━━━━━━━━━━━━━━━━━━━━━━━━━━━━━━━━━━━━━━━\u001b[0m \u001b[32m105.4/105.4 kB\u001b[0m \u001b[31m8.1 MB/s\u001b[0m eta \u001b[36m0:00:00\u001b[0m\n",
            "\u001b[?25hDownloading pybase64-1.4.1-cp311-cp311-manylinux_2_5_x86_64.manylinux1_x86_64.manylinux_2_17_x86_64.manylinux2014_x86_64.whl (71 kB)\n",
            "\u001b[2K   \u001b[90m━━━━━━━━━━━━━━━━━━━━━━━━━━━━━━━━━━━━━━━━\u001b[0m \u001b[32m71.2/71.2 kB\u001b[0m \u001b[31m5.4 MB/s\u001b[0m eta \u001b[36m0:00:00\u001b[0m\n",
            "\u001b[?25hDownloading backoff-2.2.1-py3-none-any.whl (15 kB)\n",
            "Downloading durationpy-0.10-py3-none-any.whl (3.9 kB)\n",
            "Downloading httptools-0.6.4-cp311-cp311-manylinux_2_5_x86_64.manylinux1_x86_64.manylinux_2_17_x86_64.manylinux2014_x86_64.whl (459 kB)\n",
            "\u001b[2K   \u001b[90m━━━━━━━━━━━━━━━━━━━━━━━━━━━━━━━━━━━━━━━━\u001b[0m \u001b[32m459.8/459.8 kB\u001b[0m \u001b[31m26.9 MB/s\u001b[0m eta \u001b[36m0:00:00\u001b[0m\n",
            "\u001b[?25hDownloading uvloop-0.21.0-cp311-cp311-manylinux_2_17_x86_64.manylinux2014_x86_64.whl (4.0 MB)\n",
            "\u001b[2K   \u001b[90m━━━━━━━━━━━━━━━━━━━━━━━━━━━━━━━━━━━━━━━━\u001b[0m \u001b[32m4.0/4.0 MB\u001b[0m \u001b[31m63.9 MB/s\u001b[0m eta \u001b[36m0:00:00\u001b[0m\n",
            "\u001b[?25hDownloading watchfiles-1.1.0-cp311-cp311-manylinux_2_17_x86_64.manylinux2014_x86_64.whl (453 kB)\n",
            "\u001b[2K   \u001b[90m━━━━━━━━━━━━━━━━━━━━━━━━━━━━━━━━━━━━━━━━\u001b[0m \u001b[32m453.1/453.1 kB\u001b[0m \u001b[31m18.7 MB/s\u001b[0m eta \u001b[36m0:00:00\u001b[0m\n",
            "\u001b[?25hDownloading coloredlogs-15.0.1-py2.py3-none-any.whl (46 kB)\n",
            "\u001b[2K   \u001b[90m━━━━━━━━━━━━━━━━━━━━━━━━━━━━━━━━━━━━━━━━\u001b[0m \u001b[32m46.0/46.0 kB\u001b[0m \u001b[31m3.0 MB/s\u001b[0m eta \u001b[36m0:00:00\u001b[0m\n",
            "\u001b[?25hDownloading humanfriendly-10.0-py2.py3-none-any.whl (86 kB)\n",
            "\u001b[2K   \u001b[90m━━━━━━━━━━━━━━━━━━━━━━━━━━━━━━━━━━━━━━━━\u001b[0m \u001b[32m86.8/86.8 kB\u001b[0m \u001b[31m5.0 MB/s\u001b[0m eta \u001b[36m0:00:00\u001b[0m\n",
            "\u001b[?25hBuilding wheels for collected packages: pypika\n",
            "  Building wheel for pypika (pyproject.toml) ... \u001b[?25l\u001b[?25hdone\n",
            "  Created wheel for pypika: filename=pypika-0.48.9-py2.py3-none-any.whl size=53803 sha256=1cab211c82b1fc6d86a5ead52084df2101c57fe7dd772dccc776267cd54cf911\n",
            "  Stored in directory: /root/.cache/pip/wheels/a3/01/bd/4c40ceb9d5354160cb186dcc153360f4ab7eb23e2b24daf96d\n",
            "Successfully built pypika\n",
            "Installing collected packages: pypika, durationpy, uvloop, pybase64, overrides, opentelemetry-proto, mmh3, humanfriendly, httptools, bcrypt, backoff, watchfiles, posthog, opentelemetry-exporter-otlp-proto-common, opentelemetry-api, coloredlogs, opentelemetry-semantic-conventions, onnxruntime, kubernetes, opentelemetry-sdk, opentelemetry-exporter-otlp-proto-grpc, chromadb\n",
            "Successfully installed backoff-2.2.1 bcrypt-4.3.0 chromadb-1.0.15 coloredlogs-15.0.1 durationpy-0.10 httptools-0.6.4 humanfriendly-10.0 kubernetes-33.1.0 mmh3-5.1.0 onnxruntime-1.22.1 opentelemetry-api-1.35.0 opentelemetry-exporter-otlp-proto-common-1.35.0 opentelemetry-exporter-otlp-proto-grpc-1.35.0 opentelemetry-proto-1.35.0 opentelemetry-sdk-1.35.0 opentelemetry-semantic-conventions-0.56b0 overrides-7.7.0 posthog-5.4.0 pybase64-1.4.1 pypika-0.48.9 uvloop-0.21.0 watchfiles-1.1.0\n"
          ]
        }
      ]
    },
    {
      "cell_type": "code",
      "source": [
        "\"\"\"\n",
        "Hybrid RAG Example: Scientific Literature Q&A with Neo4j and ChromaDB\n",
        "- Neo4j stores the knowledge graph (entities, relationships)\n",
        "- ChromaDB stores vector embeddings for semantic search\n",
        "- LangChain is used for LLM, embeddings, and orchestration\n",
        "\"\"\""
      ],
      "metadata": {
        "colab": {
          "base_uri": "https://localhost:8080/",
          "height": 53
        },
        "id": "Zaw5lGwpZ-o-",
        "outputId": "bf609e79-4e8c-498a-fb59-6ef183b62ff0"
      },
      "execution_count": 35,
      "outputs": [
        {
          "output_type": "execute_result",
          "data": {
            "text/plain": [
              "'\\nHybrid RAG Example: Scientific Literature Q&A with Neo4j and ChromaDB\\n- Neo4j stores the knowledge graph (entities, relationships)\\n- ChromaDB stores vector embeddings for semantic search\\n- LangChain is used for LLM, embeddings, and orchestration\\n'"
            ],
            "application/vnd.google.colaboratory.intrinsic+json": {
              "type": "string"
            }
          },
          "metadata": {},
          "execution_count": 35
        }
      ]
    },
    {
      "cell_type": "code",
      "source": [
        "from langchain_community.graphs import Neo4jGraph\n",
        "from langchain_community.vectorstores import Chroma\n",
        "from langchain.embeddings import HuggingFaceEmbeddings\n",
        "from langchain_core.documents import Document"
      ],
      "metadata": {
        "id": "fq3RIENMZ-sU"
      },
      "execution_count": 54,
      "outputs": []
    },
    {
      "cell_type": "code",
      "source": [
        "from google.colab import userdata\n",
        "NEO4J_URI = userdata.get('NEO4J_URI')\n",
        "NEO4J_USERNAME = userdata.get('NEO4J_USERNAME')\n",
        "NEO4J_PASSWORD = userdata.get('NEO4J_PASSWORD')\n",
        "groq_api_key = userdata.get('GROQ_API_KEY')"
      ],
      "metadata": {
        "id": "Mn86MswJtAbV"
      },
      "execution_count": 55,
      "outputs": []
    },
    {
      "cell_type": "code",
      "source": [
        "# connect to neo4j database\n",
        "graph = Neo4jGraph(\n",
        "    url=NEO4J_URI, username=NEO4J_USERNAME, password=NEO4J_PASSWORD\n",
        ")"
      ],
      "metadata": {
        "id": "zubJAc9ZtAgJ"
      },
      "execution_count": 56,
      "outputs": []
    },
    {
      "cell_type": "code",
      "source": [
        "#Example data: Scientific papers\n",
        "\n",
        "papers = [\n",
        "    {\n",
        "        \"title\": \"Quantum Computing Advances at MIT\",\n",
        "        \"abstract\": (\n",
        "            \"Quantum computing has witnessed significant advancements at MIT, where researchers have developed \"\n",
        "            \"novel quantum algorithms that outperform classical counterparts in specific problem domains. \"\n",
        "            \"This paper presents a comprehensive overview of the new algorithms, their theoretical underpinnings, \"\n",
        "            \"and experimental results obtained using MIT's state-of-the-art superconducting qubit processors. \"\n",
        "            \"The work also discusses scalability challenges, error mitigation strategies, and potential applications \"\n",
        "            \"in cryptography, optimization, and material science. The findings mark a substantial step forward in \"\n",
        "            \"realizing practical quantum advantage. Furthermore, we detail the collaborative efforts between MIT and \"\n",
        "            \"industry partners to transition these algorithms into real-world applications, and provide a roadmap for \"\n",
        "            \"future research directions in scalable quantum computing.\"\n",
        "        ),\n",
        "        \"authors\": [\"Alice Smith\", \"Bob Lee\"],\n",
        "        \"institution\": \"MIT\"\n",
        "    },\n",
        "    {\n",
        "        \"title\": \"Relativity and Quantum Mechanics\",\n",
        "        \"abstract\": (\n",
        "            \"This paper explores the longstanding challenge of reconciling Einstein's theory of relativity with the \"\n",
        "            \"principles of quantum mechanics. We review historical attempts at unification, analyze the conceptual \"\n",
        "            \"conflicts between the two frameworks, and present recent theoretical models that aim to bridge the gap. \"\n",
        "            \"Special attention is given to quantum gravity, string theory, and loop quantum gravity. The paper concludes \"\n",
        "            \"with a discussion of experimental tests and the implications for our understanding of space, time, and matter. \"\n",
        "            \"Additionally, we propose a novel experimental setup to test the predictions of hybrid models, and discuss the \"\n",
        "            \"potential impact of these findings on the future of theoretical physics.\"\n",
        "        ),\n",
        "        \"authors\": [\"Albert Einstein\"],\n",
        "        \"institution\": \"Princeton\"\n",
        "    },\n",
        "    {\n",
        "        \"title\": \"Quantum Error Correction\",\n",
        "        \"abstract\": (\n",
        "            \"A new method for error correction in quantum computers is proposed, addressing the critical issue of \"\n",
        "            \"decoherence and operational errors in quantum systems. The paper introduces a family of quantum error-correcting \"\n",
        "            \"codes that significantly improve fault tolerance. Analytical proofs and simulation results demonstrate the \"\n",
        "            \"effectiveness of the approach on both small-scale and large-scale quantum architectures. The authors also \"\n",
        "            \"discuss the integration of these codes into existing quantum hardware and outline future research directions \"\n",
        "            \"for achieving reliable, large-scale quantum computation. The work includes a comparative analysis with existing \"\n",
        "            \"error correction techniques and presents a framework for adaptive error correction in dynamic quantum environments.\"\n",
        "        ),\n",
        "        \"authors\": [\"Carol White\", \"Alice Smith\"],\n",
        "        \"institution\": \"CalTech\"\n",
        "    },\n",
        "    {\n",
        "        \"title\": \"Quantum Machine Learning for Drug Discovery\",\n",
        "        \"abstract\": (\n",
        "            \"This paper presents a comprehensive study on the application of quantum machine learning algorithms to drug discovery. \"\n",
        "            \"We demonstrate how quantum-enhanced feature selection and classification can accelerate the identification of promising \"\n",
        "            \"drug candidates. The research includes experimental results from simulations on quantum hardware, highlighting the \"\n",
        "            \"advantages over classical machine learning approaches. We also discuss the integration of quantum algorithms with existing \"\n",
        "            \"bioinformatics pipelines and propose a scalable workflow for pharmaceutical research. The findings suggest that quantum \"\n",
        "            \"machine learning could revolutionize the speed and accuracy of drug discovery in the coming decade.\"\n",
        "        ),\n",
        "        \"authors\": [\"Diana Patel\", \"Evan Kim\"],\n",
        "        \"institution\": \"Stanford\"\n",
        "    },\n",
        "    {\n",
        "        \"title\": \"Scalable Quantum Networks: Architecture and Security\",\n",
        "        \"abstract\": (\n",
        "            \"As quantum computers become more powerful, the need for scalable and secure quantum networks is paramount. \"\n",
        "            \"This paper introduces a novel architecture for quantum networks that supports robust entanglement distribution and \"\n",
        "            \"secure quantum communication across large distances. We analyze the security implications of quantum key distribution \"\n",
        "            \"protocols in the proposed network and present experimental results from a prototype implementation. The work also \"\n",
        "            \"addresses challenges in network synchronization, error correction, and integration with classical infrastructure. \"\n",
        "            \"Our results provide a blueprint for the next generation of quantum internet technologies.\"\n",
        "        ),\n",
        "        \"authors\": [\"Fiona Zhang\", \"George Brown\"],\n",
        "        \"institution\": \"ETH Zurich\"\n",
        "    },\n",
        "    {\n",
        "        \"title\": \"Topological Qubits: Towards Fault-Tolerant Quantum Computing\",\n",
        "        \"abstract\": (\n",
        "            \"Topological qubits offer a promising path to fault-tolerant quantum computing due to their inherent resistance to local noise. \"\n",
        "            \"This paper reviews the theoretical foundations of topological quantum computation and reports on recent experimental progress \"\n",
        "            \"in realizing Majorana-based qubits. We present new results on braiding operations, error rates, and scalability. The paper also \"\n",
        "            \"discusses the challenges of integrating topological qubits with existing quantum hardware and outlines future research directions \"\n",
        "            \"for achieving large-scale, fault-tolerant quantum computers.\"\n",
        "        ),\n",
        "        \"authors\": [\"Helen Park\", \"Ivan Petrov\"],\n",
        "        \"institution\": \"Microsoft Research\"\n",
        "    }\n",
        "]"
      ],
      "metadata": {
        "id": "4Ffaj0oStAiZ"
      },
      "execution_count": 67,
      "outputs": []
    },
    {
      "cell_type": "code",
      "source": [
        "# build knowledge graph in Neo4j\n",
        "for paper in papers:\n",
        "  #create graph nodes:\n",
        "  graph.query(\n",
        "      \"MERGE (p:Paper {title: $title, abstract: $abstract})\",\n",
        "      {'title': paper['title'], 'abstract': paper['abstract']}\n",
        "\n",
        "  )\n",
        "  for author in paper['authors']:\n",
        "    graph.query(\n",
        "        \"MERGE (a:Author {name: $name})\",\n",
        "        {'name': author}\n",
        "        )\n",
        "    graph.query(\n",
        "        \"MATCH (p:Paper {title: $title}), (a:Author {name: $name}) MERGE (p)-[:AUTHORED_BY]->(a)\",\n",
        "        {'title': paper['title'], 'name': author}\n",
        "    )\n",
        "    graph.query(\n",
        "        \"MERGE (i:Institution {name:$institution})\",\n",
        "        {'institution': paper['institution']}\n",
        "    )\n",
        "    graph.query(\n",
        "        \"MATCH (a:Author)-[:AUTHORED_BY]-(p:Paper {title:$title}), (i: Institution {name:$institution}) MERGE (a)-[:AFFILIATED_WITH]->(i)\",\n",
        "        {'title': paper['title'], 'institution': paper['institution']}\n",
        "    )\n"
      ],
      "metadata": {
        "id": "bk3Ut4T1tAkX"
      },
      "execution_count": 68,
      "outputs": []
    },
    {
      "cell_type": "code",
      "source": [
        "import os\n",
        "# generate embeddings and store in Chroma DB\n",
        "embeddings = HuggingFaceEmbeddings(model_name=\"all-MiniLM-L6-v2\")\n",
        "texts = [paper['abstract'] for paper in papers]\n",
        "documents = [Document(page_content=txt, metadata={'title':papers[i]['title']}) for i, txt in enumerate(texts)]\n",
        "persist = \"/content/new2/chroma_db\"\n",
        "if not os.path.exists(persist):\n",
        "  os.mkdir(persist)\n",
        "vectorstore = Chroma.from_documents(documents, embeddings, persist_directory=persist)"
      ],
      "metadata": {
        "id": "9yQnN1hutAmw"
      },
      "execution_count": 75,
      "outputs": []
    },
    {
      "cell_type": "code",
      "source": [
        "# Hybrid RAG query Example\n",
        "def hybrid_rag_query(user_query:str):\n",
        "  print(f\"User Query: {user_query}\")\n",
        "  query_vec = embeddings.embed_query(user_query)\n",
        "  print(f\"Query Vector: {query_vec}\")\n",
        "  semantic_results = vectorstore.similarity_search_by_vector(query_vec, k=3)\n",
        "  print(f\"Semantic Results: {semantic_results}\")\n",
        "  print(\"Top Semantic Matches (ChromaDB)\")\n",
        "  for doc in semantic_results:\n",
        "        print(f\"- {doc.metadata.get('title')}: {doc.page_content[:60]}...\")\n",
        "  # 2. Use Neo4j to filter/enrich: Find which results are by MIT authors\n",
        "  print(\"\\nPapers by authors (Neo4j):\")\n",
        "  for doc in semantic_results:\n",
        "      title = doc.metadata.get('title')\n",
        "      cypher = \"\"\"\n",
        "      MATCH (p:Paper)-[:AUTHORED_BY]->(a:Author)-[:AFFILIATED_WITH]->(i:Institution)\n",
        "      WHERE p.title = $title\n",
        "      RETURN p.title, a.name\n",
        "      \"\"\"\n",
        "      results = graph.query(cypher, {\"title\": title})\n",
        "      for record in results:\n",
        "          print(f\"Paper: {record['p.title']} | Author: {record['a.name']}\")\n",
        "\n",
        "if __name__ == \"__main__\":\n",
        "    # Example hybrid RAG query\n",
        "    hybrid_rag_query(\"Tell me something about Quantum Machine Learning \")\n"
      ],
      "metadata": {
        "colab": {
          "base_uri": "https://localhost:8080/"
        },
        "id": "VVjtRQKAtAqN",
        "outputId": "20939daf-72d3-4f3d-8d11-1d12768fe6ab"
      },
      "execution_count": 79,
      "outputs": [
        {
          "output_type": "stream",
          "name": "stdout",
          "text": [
            "User Query: Tell me something about Quantum Machine Learning \n",
            "Query Vector: [-0.07272789627313614, -0.02764366753399372, -0.003680465742945671, 0.03980720415711403, -0.05338707193732262, 0.030634285882115364, -0.005472877528518438, -0.0662560760974884, -0.07423131912946701, -0.007494880352169275, -0.05849776044487953, 0.022964315488934517, -0.017854301258921623, 0.01232914812862873, -0.06705665588378906, 0.045354489237070084, 0.031540825963020325, 0.012603933922946453, -0.042452529072761536, -0.07985149323940277, 0.01957802288234234, 0.03214756399393082, -0.012319665402173996, -0.0001570600870763883, 0.0006196193862706423, -0.005677171517163515, 0.04233657568693161, 0.03702578321099281, 0.017669500783085823, -0.014689800329506397, 0.040693432092666626, 0.033957596868276596, 0.021902667358517647, -0.03412698209285736, -0.07692208886146545, 0.027910862118005753, 0.021750371903181076, 0.0010992810130119324, 0.04294528812170029, -0.051079221069812775, 0.04135976359248161, 0.017754437401890755, -0.04464847967028618, -0.003938747104257345, 0.09015065431594849, 0.1310833990573883, 0.03475712612271309, -0.014176938682794571, -0.01151108555495739, -0.1049090027809143, -0.10367518663406372, 0.005536278244107962, -0.00043200276559218764, 0.05282767489552498, 0.006744008511304855, -0.020879650488495827, 0.05644750967621803, 0.008112454786896706, -0.04510732367634773, -0.0780162364244461, 0.004341060761362314, -0.1276257485151291, -0.09776171296834946, 0.030464714393019676, 0.12390024960041046, -0.004317032638937235, -0.03575920686125755, 0.028857503086328506, 0.020379161462187767, -0.061550240963697433, -0.009678451344370842, -0.007453997153788805, -0.03422171249985695, 0.06497287005186081, 0.033040888607501984, -0.06918320059776306, 0.059650491923093796, 0.039818912744522095, 0.030733924359083176, 0.03221821039915085, -0.047104548662900925, -0.11154259741306305, 0.023025482892990112, 0.016057956963777542, 0.11504856497049332, 0.01593305543065071, -0.061785243451595306, 0.005468581337481737, -0.12254117429256439, -0.08030354976654053, -0.026614977046847343, -0.05377822369337082, -0.041315384209156036, -0.05354905501008034, -6.923394539626315e-05, 0.05823247879743576, 0.0024724414106458426, -0.057236019521951675, 0.011874616146087646, 0.026482973247766495, 0.0361500009894371, 0.03662135452032089, 0.009079430252313614, 0.005396808031946421, 0.04180111736059189, -0.019611142575740814, 0.03282457962632179, -0.0037938954774290323, 0.09693723917007446, -0.09086902439594269, -0.02783025987446308, 0.031124671921133995, 0.01034484151750803, -0.029856912791728973, 0.014861800707876682, 0.01635836996138096, 0.02538653463125229, 0.09985309094190598, -0.0398440919816494, 0.03860697150230408, -0.06622582674026489, -0.02204558067023754, -0.03710848093032837, 0.056800924241542816, -0.02866799384355545, -0.012622538954019547, -0.10811899602413177, -3.5214706710865594e-33, 0.01450443547219038, -0.0631083995103836, -0.00232922681607306, 0.028755027800798416, 0.06547267735004425, -0.05033043026924133, 0.05860866233706474, -0.0825427994132042, 0.01575433276593685, 0.003549815621227026, 0.05947933718562126, -0.021448463201522827, 0.045814141631126404, 0.006430728826671839, -0.01196550764143467, -0.004854531958699226, -0.12181074917316437, -0.0365682952105999, 0.06224646419286728, -0.03883880004286766, 0.054593879729509354, -0.02831977792084217, -0.02746533788740635, 0.027284016832709312, -0.039452847093343735, 0.012933782301843166, 0.07394830137491226, -0.01966637559235096, -0.009398824535310268, 0.01631968654692173, 0.00019647130102384835, 0.11723928153514862, -0.0993337407708168, -0.025915907695889473, 0.03991730138659477, 0.05260008946061134, 0.00042116298573091626, 0.03020630031824112, -0.0011860464001074433, -0.04164106026291847, -0.02082040160894394, -0.07692518830299377, 0.04670456051826477, -0.03665219619870186, 0.011129757389426231, -0.009193962439894676, -0.0022445430513471365, -0.13151338696479797, 0.015544169582426548, -0.0223369263112545, 0.04811948537826538, -0.07147549837827682, -0.0793059840798378, -0.054576702415943146, 0.0545264407992363, 0.060136690735816956, 0.036987513303756714, -0.015923159196972847, -0.021305901929736137, 0.01798028126358986, -0.012999513186514378, 0.012819127179682255, -0.04051031917333603, 0.03362749144434929, -0.06126508116722107, 0.028595158830285072, -0.005865148734301329, -0.023296166211366653, 0.009782050736248493, 0.10707645863294601, -0.005428411532193422, 0.04620992764830589, 0.012315581552684307, -0.07775381207466125, 0.04675585776567459, -0.013107750564813614, -0.03783585503697395, -0.06538461893796921, 0.0018663061782717705, 0.057531654834747314, -0.0024201341439038515, -0.07465275377035141, -0.019615700468420982, -0.025603828951716423, -0.03875743970274925, -0.0611453615128994, -0.0476413294672966, -0.0750509575009346, -0.01721789501607418, -0.03866378217935562, -0.07181207835674286, -0.04857682064175606, 0.08336859196424484, 0.027336787432432175, -0.09545918554067612, 9.3032443280716e-34, -0.09555930644273758, 0.0704510360956192, -0.032129157334566116, 0.0699901133775711, 0.018421338871121407, -0.03255334123969078, -0.04325764626264572, 0.020699670538306236, -0.02350127510726452, 0.023581866174936295, 0.02182895690202713, 0.08816301822662354, 0.08585363626480103, 0.08655230700969696, -0.03206346556544304, 0.07176776975393295, 0.0163185466080904, -0.013133866712450981, 0.022491058334708214, -0.025099055841565132, 0.010097636841237545, 0.06233404576778412, -0.034083135426044464, -0.02293957769870758, 0.015323837287724018, 0.04941072687506676, 0.014325592666864395, 0.006169588305056095, 0.023919129744172096, -0.013957136310636997, 0.012986244633793831, -0.08906915038824081, -0.0757967010140419, 0.013803010806441307, -0.06454091519117355, 0.023505311459302902, 0.06417560577392578, 0.008672859519720078, -0.02159193903207779, 0.011943723075091839, 0.006833825260400772, -0.014123580418527126, -0.028054822236299515, -0.04693066328763962, 0.017110401764512062, -0.03751086816191673, -0.03306000679731369, 0.047891467809677124, -0.0392964668571949, 0.028588231652975082, 0.06327544897794724, 0.11345279961824417, 0.014144759625196457, -0.003544976469129324, -0.10457627475261688, -0.005614668596535921, 0.013190822675824165, 0.052517469972372055, 0.10103169083595276, 0.05165485292673111, -0.07898525893688202, -0.007772475015372038, 0.0188117865473032, 0.11819279938936234, -0.006649937946349382, -0.015909191220998764, -0.06400447338819504, 0.05932031199336052, 0.024515049532055855, -0.025422416627407074, -0.008676287718117237, 0.007495560683310032, 0.020309021696448326, 0.021799342706799507, -0.007015192415565252, 0.005624519661068916, 0.004298231098800898, -0.055876441299915314, -0.05469585582613945, 0.00396053958684206, 0.021536458283662796, -0.07414566725492477, -0.027360079810023308, 0.08700176328420639, 0.030978266149759293, 0.05252605304121971, 0.07970654964447021, 0.003893234534189105, 0.01216795202344656, -0.09866587072610855, -0.00832272507250309, 0.05793233960866928, -0.0016671939520165324, -0.013349693268537521, -0.03935929760336876, -1.2142251648583624e-08, -0.016660049557685852, -0.04747537523508072, 0.0847710520029068, -0.0496448315680027, 0.12878362834453583, -0.005768714006990194, 0.039417069405317307, 0.059044089168310165, -0.08921710401773453, -0.033392272889614105, -0.005985832307487726, 0.024328958243131638, -0.08702404797077179, 0.027744879946112633, 0.06314864754676819, 0.04653792083263397, -0.003649496240541339, -0.007827473804354668, 0.016035376116633415, -0.024884764105081558, 0.08811157941818237, 0.009296601638197899, 0.05338136479258537, 0.01620018668472767, -0.008970160968601704, -0.06647113710641861, -0.004561279434710741, 0.04953303933143616, -0.007290212903171778, 0.06949442625045776, -0.09092782437801361, 0.06272076815366745, 0.06993009150028229, 0.0484217032790184, -0.025035910308361053, 0.0034136881586164236, 0.004302184097468853, -0.13466927409172058, -0.03393149748444557, 0.03509141132235527, -0.04819002375006676, 0.10142159461975098, -0.027754422277212143, 0.040498796850442886, 0.010326757095754147, -0.0023642147425562143, 0.06942584365606308, -0.10343582928180695, 0.06515005975961685, 0.1335877776145935, 0.06990538537502289, 0.05654381215572357, 0.04701535031199455, -0.0504692941904068, -0.009745934046804905, 0.08631809800863266, -0.015754152089357376, -0.07474897801876068, -0.03300478309392929, 0.06973983347415924, 0.062151048332452774, 0.056430622935295105, -0.019137753173708916, 0.039906132966279984]\n",
            "Semantic Results: [Document(metadata={'title': 'Quantum Machine Learning for Drug Discovery'}, page_content='This paper presents a comprehensive study on the application of quantum machine learning algorithms to drug discovery. We demonstrate how quantum-enhanced feature selection and classification can accelerate the identification of promising drug candidates. The research includes experimental results from simulations on quantum hardware, highlighting the advantages over classical machine learning approaches. We also discuss the integration of quantum algorithms with existing bioinformatics pipelines and propose a scalable workflow for pharmaceutical research. The findings suggest that quantum machine learning could revolutionize the speed and accuracy of drug discovery in the coming decade.'), Document(metadata={'title': 'Quantum Computing Advances at MIT'}, page_content=\"Quantum computing has witnessed significant advancements at MIT, where researchers have developed novel quantum algorithms that outperform classical counterparts in specific problem domains. This paper presents a comprehensive overview of the new algorithms, their theoretical underpinnings, and experimental results obtained using MIT's state-of-the-art superconducting qubit processors. The work also discusses scalability challenges, error mitigation strategies, and potential applications in cryptography, optimization, and material science. The findings mark a substantial step forward in realizing practical quantum advantage. Furthermore, we detail the collaborative efforts between MIT and industry partners to transition these algorithms into real-world applications, and provide a roadmap for future research directions in scalable quantum computing.\"), Document(metadata={'title': 'Scalable Quantum Networks: Architecture and Security'}, page_content='As quantum computers become more powerful, the need for scalable and secure quantum networks is paramount. This paper introduces a novel architecture for quantum networks that supports robust entanglement distribution and secure quantum communication across large distances. We analyze the security implications of quantum key distribution protocols in the proposed network and present experimental results from a prototype implementation. The work also addresses challenges in network synchronization, error correction, and integration with classical infrastructure. Our results provide a blueprint for the next generation of quantum internet technologies.')]\n",
            "Top Semantic Matches (ChromaDB)\n",
            "- Quantum Machine Learning for Drug Discovery: This paper presents a comprehensive study on the application...\n",
            "- Quantum Computing Advances at MIT: Quantum computing has witnessed significant advancements at ...\n",
            "- Scalable Quantum Networks: Architecture and Security: As quantum computers become more powerful, the need for scal...\n",
            "\n",
            "Papers by authors (Neo4j):\n",
            "Paper: Quantum Machine Learning for Drug Discovery | Author: Diana Patel\n",
            "Paper: Quantum Machine Learning for Drug Discovery | Author: Evan Kim\n",
            "Paper: Quantum Computing Advances at MIT | Author: Alice Smith\n",
            "Paper: Quantum Computing Advances at MIT | Author: Alice Smith\n",
            "Paper: Quantum Computing Advances at MIT | Author: Bob Lee\n",
            "Paper: Quantum Computing Advances at MIT | Author: Alice Smith\n",
            "Paper: Quantum Computing Advances at MIT | Author: Alice Smith\n",
            "Paper: Quantum Computing Advances at MIT | Author: Bob Lee\n",
            "Paper: Scalable Quantum Networks: Architecture and Security | Author: Fiona Zhang\n",
            "Paper: Scalable Quantum Networks: Architecture and Security | Author: George Brown\n"
          ]
        }
      ]
    },
    {
      "cell_type": "code",
      "source": [],
      "metadata": {
        "id": "7RUl457TySDx"
      },
      "execution_count": null,
      "outputs": []
    },
    {
      "cell_type": "code",
      "source": [],
      "metadata": {
        "id": "mlXz5FxvySF_"
      },
      "execution_count": null,
      "outputs": []
    },
    {
      "cell_type": "code",
      "source": [],
      "metadata": {
        "id": "jk8dckqtySH3"
      },
      "execution_count": null,
      "outputs": []
    },
    {
      "cell_type": "code",
      "source": [],
      "metadata": {
        "id": "1TugAC2CySKG"
      },
      "execution_count": null,
      "outputs": []
    },
    {
      "cell_type": "code",
      "source": [],
      "metadata": {
        "id": "oKS73sstySMG"
      },
      "execution_count": null,
      "outputs": []
    },
    {
      "cell_type": "code",
      "source": [],
      "metadata": {
        "id": "g_vyQPoUySOM"
      },
      "execution_count": null,
      "outputs": []
    },
    {
      "cell_type": "code",
      "source": [],
      "metadata": {
        "id": "_4mcwAmwySRa"
      },
      "execution_count": null,
      "outputs": []
    }
  ]
}